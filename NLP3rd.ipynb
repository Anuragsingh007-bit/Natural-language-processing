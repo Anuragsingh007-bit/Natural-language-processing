{
  "nbformat": 4,
  "nbformat_minor": 0,
  "metadata": {
    "colab": {
      "provenance": [],
      "authorship_tag": "ABX9TyNuUT+19Hv7LFthmjMQ+Kl2",
      "include_colab_link": true
    },
    "kernelspec": {
      "name": "python3",
      "display_name": "Python 3"
    },
    "language_info": {
      "name": "python"
    }
  },
  "cells": [
    {
      "cell_type": "markdown",
      "metadata": {
        "id": "view-in-github",
        "colab_type": "text"
      },
      "source": [
        "<a href=\"https://colab.research.google.com/github/Anuragsingh007-bit/Natural-language-processing/blob/main/NLP3rd.ipynb\" target=\"_parent\"><img src=\"https://colab.research.google.com/assets/colab-badge.svg\" alt=\"Open In Colab\"/></a>"
      ]
    },
    {
      "cell_type": "code",
      "execution_count": 2,
      "metadata": {
        "colab": {
          "base_uri": "https://localhost:8080/",
          "height": 106
        },
        "id": "Pgx1ZcLr_vdt",
        "outputId": "ba4c0a7b-11c6-48dd-c2db-9ef9a0109597"
      },
      "outputs": [
        {
          "output_type": "error",
          "ename": "SyntaxError",
          "evalue": "invalid syntax (ipython-input-2152618129.py, line 7)",
          "traceback": [
            "\u001b[0;36m  File \u001b[0;32m\"/tmp/ipython-input-2152618129.py\"\u001b[0;36m, line \u001b[0;32m7\u001b[0m\n\u001b[0;31m    from nltk\u001b[0m\n\u001b[0m             ^\u001b[0m\n\u001b[0;31mSyntaxError\u001b[0m\u001b[0;31m:\u001b[0m invalid syntax\n"
          ]
        }
      ],
      "source": [
        "# how to find unique words in your corpus\n",
        "# Vocab\n",
        "\n",
        "corpus = ['This is the first sentence in our corpus followed by one more sentence to demonstrate Bag of Words',\n",
        "          'This is the sencond sentence in our corpus with a FEW UPPER WORDS and Few Title Case Words']\n",
        "\n",
        "vocab = []\n",
        "total_words = sentence.split()\n",
        "total_\n"
      ]
    },
    {
      "cell_type": "code",
      "source": [
        "# how to find unique words in your corpus\n",
        "# Vocab\n",
        "\n",
        "corpus = ['This is the first sentence in our corpus followed by one more sentence to demonstrate Bag of Words',\n",
        "          'This is the sencond sentence in our corpus with a FEW UPPER WORDS and Few Title Case Words',\n",
        "          'this is the third sentence in our corpus']\n",
        "\n",
        "vocab = []\n",
        "total_words = 0\n",
        "\n",
        "for sentence in corpus:\n",
        "  sentence = sentence.lower()\n",
        "  token_temp = sentence.split()\n",
        "  total_words = total_words + len(token_temp)\n",
        "  for i in range(len(token_temp)):\n",
        "    if token_temp[i] not in vocab:\n",
        "      vocab.append(token_temp[i])\n",
        "\n",
        "vocab.sort()\n",
        "print(vocab)\n",
        "print('There are {} words in vocabulary.'.format(len(vocab)))\n",
        "print('A total of {} words in corpus.'.format(total_words))\n",
        "\n"
      ],
      "metadata": {
        "colab": {
          "base_uri": "https://localhost:8080/"
        },
        "id": "tA1MsEVmBMSq",
        "outputId": "e0a203b5-927b-44a3-ab7a-8316764d5cb3"
      },
      "execution_count": 3,
      "outputs": [
        {
          "output_type": "stream",
          "name": "stdout",
          "text": [
            "['a', 'and', 'bag', 'by', 'case', 'corpus', 'demonstrate', 'few', 'first', 'followed', 'in', 'is', 'more', 'of', 'one', 'our', 'sencond', 'sentence', 'the', 'third', 'this', 'title', 'to', 'upper', 'with', 'words']\n",
            "There are 26 words in vocabulary.\n",
            "A total of 44 words in corpus.\n"
          ]
        }
      ]
    },
    {
      "cell_type": "code",
      "source": [],
      "metadata": {
        "id": "ZycArlhKbkIi"
      },
      "execution_count": null,
      "outputs": []
    },
    {
      "cell_type": "code",
      "source": [
        "from sklearn.feature_extraction.text import TfidfVectorizer"
      ],
      "metadata": {
        "id": "1vfO7M7IbdDk"
      },
      "execution_count": 4,
      "outputs": []
    },
    {
      "cell_type": "code",
      "source": [
        "data = [ \"I love Natural language Processing\",\n",
        "        \"creating word vectors\",\n",
        "         \"Is my jam!\" ]"
      ],
      "metadata": {
        "id": "PfAAzFuzbr4a"
      },
      "execution_count": 5,
      "outputs": []
    },
    {
      "cell_type": "code",
      "source": [
        "# fit\n",
        "tfvectorizer = TfidfVectorizer()\n",
        "vectorized_data = tfvectorizer.fit_transform(data)\n",
        "vectorized_data"
      ],
      "metadata": {
        "colab": {
          "base_uri": "https://localhost:8080/"
        },
        "id": "Va1izzOfbv4x",
        "outputId": "975376c3-4893-4bd2-bdf8-2547fd2684f3"
      },
      "execution_count": 6,
      "outputs": [
        {
          "output_type": "execute_result",
          "data": {
            "text/plain": [
              "<Compressed Sparse Row sparse matrix of dtype 'float64'\n",
              "\twith 10 stored elements and shape (3, 10)>"
            ]
          },
          "metadata": {},
          "execution_count": 6
        }
      ]
    },
    {
      "cell_type": "code",
      "source": [
        "X = vectorized_data.toarray()\n",
        "X"
      ],
      "metadata": {
        "colab": {
          "base_uri": "https://localhost:8080/"
        },
        "id": "_jpVWHHXcIHX",
        "outputId": "9b94d04f-f290-4d2c-8161-33841347a703"
      },
      "execution_count": 7,
      "outputs": [
        {
          "output_type": "execute_result",
          "data": {
            "text/plain": [
              "array([[0.        , 0.        , 0.        , 0.5       , 0.5       ,\n",
              "        0.        , 0.5       , 0.5       , 0.        , 0.        ],\n",
              "       [0.57735027, 0.        , 0.        , 0.        , 0.        ,\n",
              "        0.        , 0.        , 0.        , 0.57735027, 0.57735027],\n",
              "       [0.        , 0.57735027, 0.57735027, 0.        , 0.        ,\n",
              "        0.57735027, 0.        , 0.        , 0.        , 0.        ]])"
            ]
          },
          "metadata": {},
          "execution_count": 7
        }
      ]
    },
    {
      "cell_type": "code",
      "source": [
        "from sklearn.feature_extraction.text import CountVectorizer\n",
        "cv = CountVectorizer()\n",
        "X_bow = cv.fit_transform(data).toarray()\n",
        "\n",
        "X_bow"
      ],
      "metadata": {
        "colab": {
          "base_uri": "https://localhost:8080/"
        },
        "id": "KFxvCXZXcPMc",
        "outputId": "1ce015ff-f09f-4af7-ca7d-defbcc236c76"
      },
      "execution_count": 10,
      "outputs": [
        {
          "output_type": "execute_result",
          "data": {
            "text/plain": [
              "array([[0, 0, 0, 1, 1, 0, 1, 1, 0, 0],\n",
              "       [1, 0, 0, 0, 0, 0, 0, 0, 1, 1],\n",
              "       [0, 1, 1, 0, 0, 1, 0, 0, 0, 0]])"
            ]
          },
          "metadata": {},
          "execution_count": 10
        }
      ]
    },
    {
      "cell_type": "code",
      "source": [],
      "metadata": {
        "id": "-NxtO09zc1gv"
      },
      "execution_count": null,
      "outputs": []
    }
  ]
}