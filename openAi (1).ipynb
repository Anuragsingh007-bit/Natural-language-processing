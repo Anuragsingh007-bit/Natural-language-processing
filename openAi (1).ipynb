{
  "nbformat": 4,
  "nbformat_minor": 0,
  "metadata": {
    "colab": {
      "provenance": []
    },
    "kernelspec": {
      "name": "python3",
      "display_name": "Python 3"
    },
    "language_info": {
      "name": "python"
    }
  },
  "cells": [
    {
      "cell_type": "code",
      "execution_count": null,
      "metadata": {
        "id": "AzTL8TYUg3hB"
      },
      "outputs": [],
      "source": [
        "from openai import OpenAI"
      ]
    },
    {
      "cell_type": "code",
      "source": [],
      "metadata": {
        "id": "8xzI08uLhDl6"
      },
      "execution_count": null,
      "outputs": []
    },
    {
      "cell_type": "code",
      "source": [
        "client"
      ],
      "metadata": {
        "colab": {
          "base_uri": "https://localhost:8080/"
        },
        "id": "GmX_od3khTrq",
        "outputId": "d2657641-25a8-42d5-bc1a-314ed2bd2e8f"
      },
      "execution_count": null,
      "outputs": [
        {
          "output_type": "execute_result",
          "data": {
            "text/plain": [
              "<openai.OpenAI at 0x788271e55b20>"
            ]
          },
          "metadata": {},
          "execution_count": 3
        }
      ]
    },
    {
      "cell_type": "code",
      "source": [
        "response = client.chat.completions.create(\n",
        "    model = \"gpt-4o-mini\",\n",
        "    messages=[{\"role\":\"used\",\"content\":\"what is openai api\"}]\n",
        ")\n",
        "print(response)"
      ],
      "metadata": {
        "id": "wcxmJeanhYsV"
      },
      "execution_count": null,
      "outputs": []
    },
    {
      "cell_type": "code",
      "source": [
        "type(response)"
      ],
      "metadata": {
        "colab": {
          "base_uri": "https://localhost:8080/",
          "height": 141
        },
        "id": "Ug8sgMXpriA6",
        "outputId": "db5b684f-42af-4437-d4ce-57d333fe936a"
      },
      "execution_count": null,
      "outputs": [
        {
          "output_type": "error",
          "ename": "NameError",
          "evalue": "name 'response' is not defined",
          "traceback": [
            "\u001b[0;31m---------------------------------------------------------------------------\u001b[0m",
            "\u001b[0;31mNameError\u001b[0m                                 Traceback (most recent call last)",
            "\u001b[0;32m/tmp/ipython-input-2579618667.py\u001b[0m in \u001b[0;36m<cell line: 0>\u001b[0;34m()\u001b[0m\n\u001b[0;32m----> 1\u001b[0;31m \u001b[0mtype\u001b[0m\u001b[0;34m(\u001b[0m\u001b[0mresponse\u001b[0m\u001b[0;34m)\u001b[0m\u001b[0;34m\u001b[0m\u001b[0;34m\u001b[0m\u001b[0m\n\u001b[0m",
            "\u001b[0;31mNameError\u001b[0m: name 'response' is not defined"
          ]
        }
      ]
    },
    {
      "cell_type": "code",
      "source": [
        "response.choices"
      ],
      "metadata": {
        "id": "4A8gFRV7riRb"
      },
      "execution_count": null,
      "outputs": []
    },
    {
      "cell_type": "code",
      "source": [
        "response.choices[0].massage.content"
      ],
      "metadata": {
        "colab": {
          "base_uri": "https://localhost:8080/",
          "height": 141
        },
        "id": "8Hvg2O5ariUq",
        "outputId": "209f427a-d9b9-4bcf-c544-dd614336c607"
      },
      "execution_count": null,
      "outputs": [
        {
          "output_type": "error",
          "ename": "NameError",
          "evalue": "name 'response' is not defined",
          "traceback": [
            "\u001b[0;31m---------------------------------------------------------------------------\u001b[0m",
            "\u001b[0;31mNameError\u001b[0m                                 Traceback (most recent call last)",
            "\u001b[0;32m/tmp/ipython-input-194545630.py\u001b[0m in \u001b[0;36m<cell line: 0>\u001b[0;34m()\u001b[0m\n\u001b[0;32m----> 1\u001b[0;31m \u001b[0mresponse\u001b[0m\u001b[0;34m.\u001b[0m\u001b[0mchoice\u001b[0m\u001b[0;34m[\u001b[0m\u001b[0;36m0\u001b[0m\u001b[0;34m]\u001b[0m\u001b[0;34m\u001b[0m\u001b[0;34m\u001b[0m\u001b[0m\n\u001b[0m",
            "\u001b[0;31mNameError\u001b[0m: name 'response' is not defined"
          ]
        }
      ]
    },
    {
      "cell_type": "code",
      "source": [
        "response = client.chat.completions.create(\n",
        "    model = \"gpt-4o-mini\",\n",
        "    messages=[{\"role\":\"used\",\"content\":\"what is openai api\"}]\n",
        "    temperature=2,\n",
        "\n",
        ")\n",
        "print(response)"
      ],
      "metadata": {
        "id": "Nklzf0UGpjrv"
      },
      "execution_count": null,
      "outputs": []
    },
    {
      "cell_type": "code",
      "source": [
        "#  prompt=\"\"\"\n",
        "\n",
        "#  update name to imran khan and job title to senior content developer\n",
        "#  anurag singh is a content developer at pw skills\n",
        "\n",
        "#  \"\"\""
      ],
      "metadata": {
        "id": "kv8FZZdHtVAS"
      },
      "execution_count": null,
      "outputs": []
    },
    {
      "cell_type": "code",
      "source": [
        " prompt=\"\"\"\n",
        "\n",
        "do sentiment analysis for this - product is very bad\n",
        "\n",
        " \"\"\""
      ],
      "metadata": {
        "id": "yuwiXPHLvXxe"
      },
      "execution_count": null,
      "outputs": []
    },
    {
      "cell_type": "code",
      "source": [
        "# response = client.chat.completions.create(\n",
        "#     model = \"gpt-4o-mini\",\n",
        "#     messages=[{\"role\":\"used\",\"content\":\"what is openai api\"}]\n",
        "#     temperature=2,\n",
        "\n",
        "# )\n",
        "# print(response)"
      ],
      "metadata": {
        "id": "LDzK60zrtU8w"
      },
      "execution_count": null,
      "outputs": []
    },
    {
      "cell_type": "code",
      "source": [
        "response = client.chat.completions.create(\n",
        "    model = \"gpt-4o-mini\",\n",
        "    messages=[{\"role\":\"used\",\"content\":\"prompt\"}]\n",
        "    temperature=2,\n",
        "\n",
        ")\n",
        "print(response.choices[0].message.content)"
      ],
      "metadata": {
        "id": "7v4ElU9etU58"
      },
      "execution_count": null,
      "outputs": []
    },
    {
      "cell_type": "code",
      "source": [
        "# # zero shot prompting {\n",
        "#     what is ___________________\n",
        "#     no example you provided\n",
        "# }"
      ],
      "metadata": {
        "id": "Or9r5nJCtU27"
      },
      "execution_count": null,
      "outputs": []
    },
    {
      "cell_type": "code",
      "source": [
        "# one shot prompting you provided one example provided\n",
        "# few shot prompting you provide many example\n",
        "# single turn task\n",
        "# chat complition end point\n",
        "# text generation\n",
        "# text Transformation\n",
        "# classification\n",
        "\n"
      ],
      "metadata": {
        "id": "xvz8xzW7tUz-"
      },
      "execution_count": null,
      "outputs": []
    },
    {
      "cell_type": "code",
      "source": [
        "messages = [{\"role\":\"system\",\n",
        "             \"content\":\"you are data science tutor who speaks concisely\"},\n",
        "             {\"role:\"user\",\n",
        "             \"content\":\"what is difference between mutable and immutble objects\"}]\n"
      ],
      "metadata": {
        "id": "_KyrDDy2tUxH"
      },
      "execution_count": null,
      "outputs": []
    },
    {
      "cell_type": "code",
      "source": [
        "response = client.chat.completions.create(\n",
        "    model = \"gpt-4o-mini\",\n",
        "    messages=[{\"role\":\"system\",\n",
        "             \"content\":\"you are data science tutor who speaks concisely\"},\n",
        "             {\"role:\"user\",\n",
        "             \"content\":\"what is difference between mutable and immutble objects\"}]\n",
        ")\n",
        "print(response.choices[0].message.content)"
      ],
      "metadata": {
        "id": "c-FtL34r5TjX"
      },
      "execution_count": null,
      "outputs": []
    },
    {
      "cell_type": "code",
      "source": [
        "response = client.chat.completions.create(\n",
        "    model = \"gpt-4o-mini\",\n",
        "    messages=[{\"role\":\"system\",\n",
        "             \"content\":\"you are data science tutor who speaks in funny way\"},\n",
        "             {\"role:\"user\",\n",
        "             \"content\":\"what is difference between mutable and immutble objects\"}]\n",
        ")\n",
        "print(response.choices[0].message.content)"
      ],
      "metadata": {
        "id": "DZR6NOUU54i4"
      },
      "execution_count": null,
      "outputs": []
    },
    {
      "cell_type": "code",
      "source": [
        "response = client.chat.completions.create(\n",
        "    model = \"gpt-4o-mini\",\n",
        "    messages=[{\"role\":\"system\",\n",
        "             \"content\":\"you are data science tutor who speaks in funny way\"},\n",
        "             {\"role:\"user\",\n",
        "             \"content\":\"what is difference between mutable and immutble objects\"},\n",
        "             {\"role\":\"assistant\",\n",
        "              \"content\":\"list are defined by enclosing a comma-seperated sequence of objects inside square brackets[ ]\"},\n",
        "              {\"role\":\"user\",\n",
        "               \"content\":\"what is my name\"}])\n",
        "              ]\n",
        "    )\n",
        "print(response.choices[0].message.content)"
      ],
      "metadata": {
        "id": "eUqoATLE5-G1"
      },
      "execution_count": null,
      "outputs": []
    }
  ]
}